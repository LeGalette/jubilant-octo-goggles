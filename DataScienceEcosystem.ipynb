{
  "metadata": {
    "kernelspec": {
      "name": "python",
      "display_name": "Python (Pyodide)",
      "language": "python"
    },
    "language_info": {
      "codemirror_mode": {
        "name": "python",
        "version": 3
      },
      "file_extension": ".py",
      "mimetype": "text/x-python",
      "name": "python",
      "nbconvert_exporter": "python",
      "pygments_lexer": "ipython3",
      "version": "3.8"
    }
  },
  "nbformat_minor": 5,
  "nbformat": 4,
  "cells": [
    {
      "id": "1ef914a7-65d9-4240-8cee-fff01c3fdd57",
      "cell_type": "markdown",
      "source": "# Data Science Tools and Ecosystem",
      "metadata": {}
    },
    {
      "id": "d5114ad7-f915-4ae1-aace-86350c218c2c",
      "cell_type": "markdown",
      "source": "In this notebook, Data Science Tools and Ecosystem are summarized.",
      "metadata": {}
    },
    {
      "id": "caed2c98-ae1a-4f07-942a-2936aee744ad",
      "cell_type": "markdown",
      "source": "**Objectives:**\n\n- List popular programming languages for Data Science\n- Demonstrate how to convert time units in Python\n- Simple arithmetic expression",
      "metadata": {}
    },
    {
      "id": "04a50e19-3d90-4d39-a8aa-f213fccd8872",
      "cell_type": "markdown",
      "source": "Some of the popular languages that Data Scientists use are:\n\n1. Python\n2. R\n3. SQL\n4. Java\n5. Julia\n6. Matlab",
      "metadata": {}
    },
    {
      "id": "d0f979e3-1588-4c49-911a-5d8c7bac626c",
      "cell_type": "markdown",
      "source": "Some of the commonly used libraries used by Data Scientists include:\n\n- Pandas\n- NumPy\n- Matplotlib\n- Scikit-learn",
      "metadata": {}
    },
    {
      "id": "02a185d3-5533-4d9e-a465-b7fcaf54122a",
      "cell_type": "markdown",
      "source": "| Data Science Tools  |\n|---------------------|\n| Jupyter Notebook    |\n| RStudio             |\n| Apache Zeppelin     |\n",
      "metadata": {}
    },
    {
      "id": "137fb1d2-f4f0-4e1a-91be-5c8e9c739425",
      "cell_type": "markdown",
      "source": "### Below are a few examples of evaluating arithmetic expressions in Python",
      "metadata": {}
    },
    {
      "id": "2f2b6ef1-3232-4c30-ab9f-11c2629bfb57",
      "cell_type": "code",
      "source": "#This a simple arithmetic expression to mutiply then add integers\n(3*4)+5",
      "metadata": {
        "trusted": true
      },
      "outputs": [
        {
          "execution_count": 1,
          "output_type": "execute_result",
          "data": {
            "text/plain": "17"
          },
          "metadata": {}
        }
      ],
      "execution_count": 1
    },
    {
      "id": "1a410a20-6fa5-458a-ab71-d716beb91abf",
      "cell_type": "code",
      "source": "#This will convert 200 minutes to hours by diving by 60\n200 / 60",
      "metadata": {
        "trusted": true
      },
      "outputs": [
        {
          "execution_count": 3,
          "output_type": "execute_result",
          "data": {
            "text/plain": "3.3333333333333335"
          },
          "metadata": {}
        }
      ],
      "execution_count": 3
    },
    {
      "id": "135224fd-3924-412c-a0d1-a70971f85723",
      "cell_type": "markdown",
      "source": "## Author\n\nSascha Re\n",
      "metadata": {}
    }
  ]
}